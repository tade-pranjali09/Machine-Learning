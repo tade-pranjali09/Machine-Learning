{
 "cells": [
  {
   "cell_type": "markdown",
   "id": "1dbbca7e",
   "metadata": {},
   "source": [
    "## Data Preprocessing"
   ]
  },
  {
   "cell_type": "markdown",
   "id": "f42ec6af",
   "metadata": {},
   "source": [
    "### Importing Libraries"
   ]
  },
  {
   "cell_type": "code",
   "execution_count": 1,
   "id": "1e88349a",
   "metadata": {},
   "outputs": [],
   "source": [
    "import numpy as np\n",
    "import pandas as pd\n",
    "import matplotlib.pyplot as plt"
   ]
  },
  {
   "cell_type": "markdown",
   "id": "55de3aab",
   "metadata": {},
   "source": [
    "### Importing the dataset"
   ]
  },
  {
   "cell_type": "markdown",
   "id": "9400762f",
   "metadata": {},
   "source": [
    "- pd.read_csv() calling pandas library to read csv.\n",
    "- X is a feature matrix with independent variables, and y is a dependent variable.\n",
    "- iloc (Locate Indexes)"
   ]
  },
  {
   "cell_type": "code",
   "execution_count": null,
   "id": "16bc3197",
   "metadata": {},
   "outputs": [
    {
     "name": "stdout",
     "output_type": "stream",
     "text": [
      "[['France' 44.0 72000.0]\n",
      " ['Spain' 27.0 48000.0]\n",
      " ['Germany' 30.0 54000.0]\n",
      " ['Spain' 38.0 61000.0]\n",
      " ['Germany' 40.0 nan]\n",
      " ['France' 35.0 58000.0]\n",
      " ['Spain' nan 52000.0]\n",
      " ['France' 48.0 79000.0]\n",
      " ['Germany' 50.0 83000.0]\n",
      " ['France' 37.0 67000.0]] \n",
      "\n",
      " ['No' 'Yes' 'No' 'No' 'Yes' 'Yes' 'No' 'Yes' 'No' 'Yes']\n"
     ]
    }
   ],
   "source": [
    "data = pd.read_csv(\"Data.csv\") #Creates a dataframe\n",
    "X= data.iloc[:,:-1].values\n",
    "y=data.iloc[:,-1].values\n",
    "print(X,\"\\n\\n\",y)"
   ]
  },
  {
   "cell_type": "markdown",
   "id": "ed1bf74e",
   "metadata": {},
   "source": [
    "### Taking care of missing values"
   ]
  },
  {
   "cell_type": "code",
   "execution_count": null,
   "id": "d78d7985",
   "metadata": {},
   "outputs": [],
   "source": []
  }
 ],
 "metadata": {
  "kernelspec": {
   "display_name": "Python 3",
   "language": "python",
   "name": "python3"
  },
  "language_info": {
   "codemirror_mode": {
    "name": "ipython",
    "version": 3
   },
   "file_extension": ".py",
   "mimetype": "text/x-python",
   "name": "python",
   "nbconvert_exporter": "python",
   "pygments_lexer": "ipython3",
   "version": "3.11.1"
  }
 },
 "nbformat": 4,
 "nbformat_minor": 5
}
